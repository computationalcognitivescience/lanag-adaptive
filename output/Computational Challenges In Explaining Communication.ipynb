{
 "cells": [
  {
   "cell_type": "markdown",
   "metadata": {},
   "source": [
    "# Entropy Analysis of the 4x3 lexicons for both the Ostensive and the Non-Ostensive simulations."
   ]
  },
  {
   "cell_type": "markdown",
   "metadata": {},
   "source": [
    "Let's start with importing the packages we need to read in the data and be able to generate the images."
   ]
  },
  {
   "cell_type": "code",
   "execution_count": 79,
   "metadata": {},
   "outputs": [],
   "source": [
    "#imports\n",
    "import os\n",
    "import numpy as np\n",
    "import pandas as pd\n",
    "import seaborn as sns\n",
    "from matplotlib import pyplot as plt\n",
    "import scipy.stats as st"
   ]
  },
  {
   "cell_type": "markdown",
   "metadata": {},
   "source": [
    "Let's create the mechanisms for reading in the existing data. The config file contains the configurations for this particular output file."
   ]
  },
  {
   "cell_type": "code",
   "execution_count": 80,
   "metadata": {},
   "outputs": [],
   "source": [
    "# config.csv:\n",
    "# agentPairs;maxTurns;roundsPlayed;beta;entropyThreshold;\n",
    "#  order;costs;initiatorDistribution;responderDistribution\n",
    "def read_config(location, config_title):\n",
    "    filename = location + \"config\" + config_title + \".csv\"\n",
    "    with open(filename) as f:\n",
    "        config = pd.read_csv(filename, sep=\";\")\n",
    "    return config"
   ]
  },
  {
   "cell_type": "markdown",
   "metadata": {},
   "source": [
    "Next, we have the data that reports on the end result of each round of interaction, for all of the agents. This entails both the number of turns the agents use before they believe to understand each other, as well as whether they had success in their communication."
   ]
  },
  {
   "cell_type": "code",
   "execution_count": 81,
   "metadata": {},
   "outputs": [],
   "source": [
    "# results_rounds.csv: \n",
    "# pair;round;nrTurns;success\n",
    "def read_results_rounds(location, config_title):\n",
    "    filename = location + \"results_rounds\" + config_title + \".csv\"\n",
    "    with open(filename) as f:\n",
    "        results_rounds = pd.read_csv(filename, sep=\";\")\n",
    "    return results_rounds"
   ]
  },
  {
   "cell_type": "markdown",
   "metadata": {},
   "source": [
    "Finally, for this set, we have the rest of the data. This is a lot larger, and contains all the information recorded throughout all interactions. So where the above contains only the results per round of interaction, this dataset contains all the information of what happens in each turn of the conversation."
   ]
  },
  {
   "cell_type": "code",
   "execution_count": 82,
   "metadata": {},
   "outputs": [],
   "source": [
    "# results_turns.csv: \n",
    "# pair;round;turn;initiatorIntention;initiatorSignal;\n",
    "# responderInference;responderSignal;entropyInitiatorListen;entropyResponderListen;\n",
    "# entropyInitiatorLexicon;entropyResponderLexicon;KLDivItoR;KLDivRtoI\n",
    "def read_results_turns(location, config_title):\n",
    "    filename = location + \"results_turns\" + config_title + \".csv\"\n",
    "    with open(filename) as f:\n",
    "        results_turns = pd.read_csv(filename, sep=\";\")\n",
    "    return results_turns"
   ]
  },
  {
   "cell_type": "markdown",
   "metadata": {},
   "source": [
    "Now to gather the specific data we need. Analyses are currently on one configuration with settings: 4x3 lexicon size, binomial distribution with an X of 0.45 and 0.55, an alpha of 5, and 500 agents. This will of course be run for both the Ostensive Signalling model as well as the Pragmatic Updating model."
   ]
  },
  {
   "cell_type": "code",
   "execution_count": 83,
   "metadata": {},
   "outputs": [],
   "source": [
    "pragmatic_model_title = \"_a500_b5.0_d0.45\"\n",
    "pragmatic_model_location = \"data/\"\n",
    "\n",
    "ostensive_model_title = \"_exp_a500_b5.0_d0.45\"\n",
    "ostensive_model_location = \"data/\"\n"
   ]
  },
  {
   "cell_type": "markdown",
   "metadata": {},
   "source": [
    "We can now import all the necessary datasets. First: the results_turns set include the data for every turn of the dialogue, and is the most detail level information."
   ]
  },
  {
   "cell_type": "code",
   "execution_count": 84,
   "metadata": {},
   "outputs": [],
   "source": [
    "pragmatic_results_turns = read_results_turns(pragmatic_model_location, pragmatic_model_title)\n",
    "ostensive_results_turns = read_results_turns(ostensive_model_location, ostensive_model_title)"
   ]
  },
  {
   "cell_type": "markdown",
   "metadata": {},
   "source": [
    "The labelling of turns is off slightly because of how the models was built, the below code fixes that (do not run it extra without reloading the data, else the +1 row will throw everything off)"
   ]
  },
  {
   "cell_type": "code",
   "execution_count": 85,
   "metadata": {},
   "outputs": [],
   "source": [
    "for i, row in pragmatic_results_turns.iterrows():\n",
    "    if row[\"turn\"] == 0 and np.isnan(row[\"entropyInitiatorListen\"]):\n",
    "        pragmatic_results_turns.at[i,\"turn\"] = -1\n",
    "pragmatic_results_turns[\"turn\"] = [x+1 for x in pragmatic_results_turns[\"turn\"]]\n",
    "\n",
    "for i, row in ostensive_results_turns.iterrows():\n",
    "    if row[\"turn\"] == 0 and np.isnan(row[\"entropyInitiatorListen\"]):\n",
    "        ostensive_results_turns.at[i,\"turn\"] = -1\n",
    "ostensive_results_turns[\"turn\"] = [x+1 for x in ostensive_results_turns[\"turn\"]]"
   ]
  },
  {
   "cell_type": "markdown",
   "metadata": {},
   "source": [
    "Next, we take the results on a dialogue level. These contain the result of the dialogue. Before we continue, we merge the results_rounds with the useful information from the results_turns. This way, while looking at a turns level, we still have access to the information on how long a conversation was, and its success."
   ]
  },
  {
   "cell_type": "code",
   "execution_count": 86,
   "metadata": {},
   "outputs": [],
   "source": [
    "pragmatic_results_rounds = read_results_rounds(pragmatic_model_location, pragmatic_model_title)\n",
    "ostensive_results_rounds = read_results_rounds(ostensive_model_location, ostensive_model_title)"
   ]
  },
  {
   "cell_type": "markdown",
   "metadata": {},
   "source": [
    "\n"
   ]
  },
  {
   "cell_type": "code",
   "execution_count": 87,
   "metadata": {},
   "outputs": [],
   "source": [
    "pragmatic_results_merged = pragmatic_results_rounds.merge(pragmatic_results_turns, left_on=['pair', 'round'], right_on=['pair', 'round'])\n",
    "ostensive_results_merged = ostensive_results_rounds.merge(ostensive_results_turns, left_on=['pair', 'round'], right_on=['pair', 'round'])"
   ]
  },
  {
   "cell_type": "markdown",
   "metadata": {},
   "source": [
    "Adding disambiguation between the models and putting them in one dataframe for some of the image creation."
   ]
  },
  {
   "cell_type": "code",
   "execution_count": 98,
   "metadata": {},
   "outputs": [],
   "source": [
    "ostensive_results_rounds['model'] = \"Ostensive\"\n",
    "pragmatic_results_rounds['model'] = \"Non-Ostensive\"\n",
    "mixed_results_rounds = pd.concat([pragmatic_results_rounds, ostensive_results_rounds])\n"
   ]
  },
  {
   "cell_type": "markdown",
   "metadata": {},
   "source": [
    "Removing all cases where the agents gave up, as that is not representative of a clarification sequence length."
   ]
  },
  {
   "cell_type": "code",
   "execution_count": 99,
   "metadata": {},
   "outputs": [],
   "source": [
    "mixed_results_rounds = mixed_results_rounds[mixed_results_rounds['nrTurns'] < 7]"
   ]
  },
  {
   "cell_type": "markdown",
   "metadata": {},
   "source": [
    "The main image for analysis 1 in the attached paper:"
   ]
  },
  {
   "cell_type": "code",
   "execution_count": 101,
   "metadata": {},
   "outputs": [
    {
     "data": {
      "image/png": "[encoded data removed]",
      "text/plain": [
       "<Figure size 432x288 with 1 Axes>"
      ]
     },
     "metadata": {
      "needs_background": "light"
     },
     "output_type": "display_data"
    }
   ],
   "source": [
    "f = sns.lineplot(data=mixed_results_rounds, x=\"round\", y=\"nrTurns\", hue=\"model\", err_style=\"bars\")\n",
    "c = sns.lineplot(data=mixed_results_rounds, x=\"round\", y=\"nrTurns\", hue=\"model\", ci='sd', legend=False)\n",
    "sns.despine()\n",
    "f.set_ylim([0,7])\n",
    "f.set_xlabel(\"Intention\")\n",
    "f.set_title(\"Reduction of turn sequence length\")"
   ]
  },
  {
   "cell_type": "markdown",
   "metadata": {},
   "source": [
    "The images below show the factual understanding the agents have, dependent on the turn in which they decide to alter the conversation. (This is the analysis 2 in the paper)."
   ]
  },
  {
   "cell_type": "code",
   "execution_count": 89,
   "metadata": {},
   "outputs": [
    {
     "data": {
      "image/png": "[encoded data removed]",
      "text/plain": [
       "<Figure size 2221.25x360 with 6 Axes>"
      ]
     },
     "metadata": {
      "needs_background": "light"
     },
     "output_type": "display_data"
    }
   ],
   "source": [
    "f = sns.catplot(x=\"nrTurns\", hue=\"success\", col=\"round\", data=pragmatic_results_rounds, kind=\"count\", palette=\"Dark2_r\")\n",
    "(f.set_axis_labels(\"Turns\", \"Count\")\n",
    "  .set(ylim=(0, 250)))  "
   ]
  },
  {
   "cell_type": "code",
   "execution_count": 90,
   "metadata": {},
   "outputs": [
    {
     "data": {
      "image/png": "[encoded data removed]",
      "text/plain": [
       "<Figure size 2221.25x360 with 6 Axes>"
      ]
     },
     "metadata": {
      "needs_background": "light"
     },
     "output_type": "display_data"
    }
   ],
   "source": [
    "f = sns.catplot(x=\"nrTurns\", hue=\"success\", col=\"round\", data=ostensive_results_rounds, kind=\"count\", palette=\"Dark2_r\")\n",
    "(f.set_axis_labels(\"Turns\", \"Count\")\n",
    "  .set(ylim=(0, 250)))  "
   ]
  },
  {
   "cell_type": "markdown",
   "metadata": {},
   "source": [
    "Below follow the information to create tables of factual vs perceived understanding (analysis 3)"
   ]
  },
  {
   "cell_type": "code",
   "execution_count": 91,
   "metadata": {},
   "outputs": [
    {
     "name": "stdout",
     "output_type": "stream",
     "text": [
      "pair       756\n",
      "round      756\n",
      "nrTurns    756\n",
      "success    756\n",
      "dtype: int64\n",
      "pair       1445\n",
      "round      1445\n",
      "nrTurns    1445\n",
      "success    1445\n",
      "dtype: int64\n",
      "pair       267\n",
      "round      267\n",
      "nrTurns    267\n",
      "success    267\n",
      "dtype: int64\n",
      "pair       532\n",
      "round      532\n",
      "nrTurns    532\n",
      "success    532\n",
      "dtype: int64\n"
     ]
    }
   ],
   "source": [
    "perceived_understanding_prag = pragmatic_results_rounds[pragmatic_results_rounds.nrTurns <= 6]\n",
    "perceived_misunderstanding_prag = pragmatic_results_rounds[pragmatic_results_rounds.nrTurns > 6]\n",
    "print(perceived_understanding_prag[perceived_understanding_prag.success == True].count())\n",
    "print(perceived_understanding_prag[perceived_understanding_prag.success == False].count())\n",
    "print(perceived_misunderstanding_prag[perceived_misunderstanding_prag.success == True].count())\n",
    "print(perceived_misunderstanding_prag[perceived_misunderstanding_prag.success == False].count())"
   ]
  },
  {
   "cell_type": "markdown",
   "metadata": {},
   "source": [
    "| Non-Ostensive ||| Perceived understanding | Give up  |\n",
    "| ------------- ||| -------------:|-------------: |\n",
    "| factual understanding   ||| 756           | 267           |\n",
    "| factual misunderstanding    ||| 1445          |   532         |\n",
    "\n"
   ]
  },
  {
   "cell_type": "markdown",
   "metadata": {},
   "source": [
    "And for the ostensive case"
   ]
  },
  {
   "cell_type": "code",
   "execution_count": 92,
   "metadata": {},
   "outputs": [
    {
     "name": "stdout",
     "output_type": "stream",
     "text": [
      "pair       1747\n",
      "round      1747\n",
      "nrTurns    1747\n",
      "success    1747\n",
      "dtype: int64\n",
      "pair       451\n",
      "round      451\n",
      "nrTurns    451\n",
      "success    451\n",
      "dtype: int64\n",
      "pair       337\n",
      "round      337\n",
      "nrTurns    337\n",
      "success    337\n",
      "dtype: int64\n",
      "pair       465\n",
      "round      465\n",
      "nrTurns    465\n",
      "success    465\n",
      "dtype: int64\n"
     ]
    }
   ],
   "source": [
    "perceived_understanding_ost = ostensive_results_rounds[ostensive_results_rounds.nrTurns <= 6]\n",
    "perceived_misunderstanding_ost = ostensive_results_rounds[ostensive_results_rounds.nrTurns > 6]\n",
    "print(perceived_understanding_ost[perceived_understanding_ost.success == True].count())\n",
    "print(perceived_understanding_ost[perceived_understanding_ost.success == False].count())\n",
    "print(perceived_misunderstanding_ost[perceived_misunderstanding_ost.success == True].count())\n",
    "print(perceived_misunderstanding_ost[perceived_misunderstanding_ost.success == False].count())"
   ]
  },
  {
   "cell_type": "markdown",
   "metadata": {},
   "source": [
    "| Ostensive     ||| Perceived understanding | Give up  |\n",
    "| ------------- ||| -------------:|-------------: |\n",
    "| factual understanding   ||| 1747          | 337           |\n",
    "| factual misunderstanding    ||| 451           |   465         |"
   ]
  },
  {
   "cell_type": "markdown",
   "metadata": {},
   "source": [
    "In percentages:"
   ]
  },
  {
   "cell_type": "markdown",
   "metadata": {},
   "source": [
    "| Non-Ostensive ||| Perceived understanding | Give up  |\n",
    "| ------------- ||| -------------:|-------------: |\n",
    "| factual understanding   ||| 25.20 %       | 8.90 %        |\n",
    "| factual misunderstanding    ||| 48.17 %       | 17.73 %       |"
   ]
  },
  {
   "cell_type": "markdown",
   "metadata": {},
   "source": [
    "| Ostensive     ||| Perceived understanding | Give up |\n",
    "| ------------- ||| -------------:|-------------: |\n",
    "| factual understanding   ||| 58.23 %       | 11.23 %       |\n",
    "| factual misunderstanding    ||| 15.03 %       |  15.5 %       |"
   ]
  },
  {
   "cell_type": "markdown",
   "metadata": {},
   "source": [
    "Below is the final analysis 3: showing percentage of factual understanding split by whether the agents perceived understanding or gave up."
   ]
  },
  {
   "cell_type": "markdown",
   "metadata": {},
   "source": [
    "|               ||| Perceived understanding | Give up      |\n",
    "| ------------- ||| -----------------------:|-------------:|\n",
    "| ostensive     ||| 79.5 %                  | 42.0 %       |\n",
    "| non-ostensive ||| 34.4 %                  | 33.4 %       |"
   ]
  },
  {
   "cell_type": "code",
   "execution_count": null,
   "metadata": {},
   "outputs": [],
   "source": []
  }
 ],
 "metadata": {
  "kernelspec": {
   "display_name": "Python 3",
   "language": "python",
   "name": "python3"
  },
  "language_info": {
   "codemirror_mode": {
    "name": "ipython",
    "version": 3
   },
   "file_extension": ".py",
   "mimetype": "text/x-python",
   "name": "python",
   "nbconvert_exporter": "python",
   "pygments_lexer": "ipython3",
   "version": "3.8.7"
  }
 },
 "nbformat": 4,
 "nbformat_minor": 4
}
