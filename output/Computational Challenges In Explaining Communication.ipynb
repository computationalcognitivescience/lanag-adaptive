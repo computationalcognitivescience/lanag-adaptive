{
 "cells": [
  {
   "cell_type": "markdown",
   "metadata": {},
   "source": [
    "# Entropy Analysis of the 4x3 lexicons for both the Ostensive and the Non-Ostensive simulations."
   ]
  },
  {
   "cell_type": "markdown",
   "metadata": {},
   "source": [
    "Let's start with importing the packages we need to read in the data and be able to generate the images."
   ]
  },
  {
   "cell_type": "code",
   "execution_count": 1,
   "metadata": {},
   "outputs": [],
   "source": [
    "#imports\n",
    "import os\n",
    "import numpy as np\n",
    "import pandas as pd\n",
    "import seaborn as sns\n",
    "from matplotlib import pyplot as plt\n",
    "import scipy.stats as st"
   ]
  },
  {
   "cell_type": "markdown",
   "metadata": {},
   "source": [
    "Let's create the mechanisms for reading in the existing data. The config file contains the configurations for this particular output file."
   ]
  },
  {
   "cell_type": "code",
   "execution_count": 2,
   "metadata": {},
   "outputs": [],
   "source": [
    "# config.csv:\n",
    "# agentPairs;maxTurns;roundsPlayed;beta;entropyThreshold;\n",
    "#  order;costs;initiatorDistribution;responderDistribution\n",
    "def read_config(location, config_title):\n",
    "    filename = location + \"config\" + config_title + \".csv\"\n",
    "    with open(filename) as f:\n",
    "        config = pd.read_csv(filename, sep=\";\")\n",
    "    return config"
   ]
  },
  {
   "cell_type": "markdown",
   "metadata": {},
   "source": [
    "Next, we have the data that reports on the end result of each round of interaction, for all of the agents. This entails both the number of turns the agents use before they believe to understand each other, as well as whether they had success in their communication."
   ]
  },
  {
   "cell_type": "code",
   "execution_count": 3,
   "metadata": {},
   "outputs": [],
   "source": [
    "# results_rounds.csv: \n",
    "# pair;round;nrTurns;success\n",
    "def read_results_rounds(location, config_title):\n",
    "    filename = location + \"results_rounds\" + config_title + \".csv\"\n",
    "    with open(filename) as f:\n",
    "        results_rounds = pd.read_csv(filename, sep=\";\")\n",
    "    return results_rounds"
   ]
  },
  {
   "cell_type": "markdown",
   "metadata": {},
   "source": [
    "Finally, for this set, we have the rest of the data. This is a lot larger, and contains all the information recorded throughout all interactions. So where the above contains only the results per round of interaction, this dataset contains all the information of what happens in each turn of the conversation."
   ]
  },
  {
   "cell_type": "code",
   "execution_count": 4,
   "metadata": {},
   "outputs": [],
   "source": [
    "# results_turns.csv: \n",
    "# pair;round;turn;initiatorIntention;initiatorSignal;\n",
    "# responderInference;responderSignal;entropyInitiatorListen;entropyResponderListen;\n",
    "# entropyInitiatorLexicon;entropyResponderLexicon;KLDivItoR;KLDivRtoI\n",
    "def read_results_turns(location, config_title):\n",
    "    filename = location + \"results_turns\" + config_title + \".csv\"\n",
    "    with open(filename) as f:\n",
    "        results_turns = pd.read_csv(filename, sep=\";\")\n",
    "    return results_turns"
   ]
  },
  {
   "cell_type": "markdown",
   "metadata": {},
   "source": [
    "Now to gather the specific data we need. Analyses are currently on one configuration with settings: 4x3 lexicon size, binomial distribution with an X of 0.45 and 0.55, an alpha of 5, and 500 agents. This will of course be run for both the Ostensive Signalling model as well as the Pragmatic Updating model."
   ]
  },
  {
   "cell_type": "code",
   "execution_count": 5,
   "metadata": {},
   "outputs": [],
   "source": [
    "pragmatic_model_title = \"_a500_b5.0_d0.45\"\n",
    "pragmatic_model_location = \"s4-r3-lanagadaptive/\"\n",
    "\n",
    "ostensive_model_title = \"_exp_a500_b5.0_d0.45\"\n",
    "ostensive_model_location = \"s4-r3-explicit/\"\n"
   ]
  },
  {
   "cell_type": "markdown",
   "metadata": {},
   "source": [
    "We can now import all the necessary datasets. First: the results_turns set include the data for every turn of the dialogue, and is the most detail level information."
   ]
  },
  {
   "cell_type": "code",
   "execution_count": 6,
   "metadata": {},
   "outputs": [],
   "source": [
    "pragmatic_results_turns = read_results_turns(pragmatic_model_location, pragmatic_model_title)\n",
    "ostensive_results_turns = read_results_turns(ostensive_model_location, ostensive_model_title)\n"
   ]
  },
  {
   "cell_type": "markdown",
   "metadata": {},
   "source": [
    "The labelling of turns is off slightly because of how the models was built, the below code fixes that (do not run it extra without reloading the data, else the +1 row will throw everything off)"
   ]
  },
  {
   "cell_type": "code",
   "execution_count": 7,
   "metadata": {},
   "outputs": [],
   "source": [
    "for i, row in pragmatic_results_turns.iterrows():\n",
    "    if row[\"turn\"] == 0 and np.isnan(row[\"entropyInitiatorListen\"]):\n",
    "        pragmatic_results_turns.at[i,\"turn\"] = -1\n",
    "pragmatic_results_turns[\"turn\"] = [x+1 for x in pragmatic_results_turns[\"turn\"]]\n",
    "\n",
    "for i, row in ostensive_results_turns.iterrows():\n",
    "    if row[\"turn\"] == 0 and np.isnan(row[\"entropyInitiatorListen\"]):\n",
    "        ostensive_results_turns.at[i,\"turn\"] = -1\n",
    "ostensive_results_turns[\"turn\"] = [x+1 for x in ostensive_results_turns[\"turn\"]]"
   ]
  },
  {
   "cell_type": "markdown",
   "metadata": {},
   "source": [
    "Next, we take the results on a dialogue level. These contain the result of the dialogue. Before we continue, we merge the results_rounds with the useful information from the results_turns. This way, while looking at a turns level, we still have access to the information on how long a conversation was, and its success."
   ]
  },
  {
   "cell_type": "code",
   "execution_count": 8,
   "metadata": {},
   "outputs": [],
   "source": [
    "pragmatic_results_rounds = read_results_rounds(pragmatic_model_location, pragmatic_model_title)\n",
    "ostensive_results_rounds = read_results_rounds(ostensive_model_location, ostensive_model_title)"
   ]
  },
  {
   "cell_type": "markdown",
   "metadata": {},
   "source": [
    "\n"
   ]
  },
  {
   "cell_type": "code",
   "execution_count": 28,
   "metadata": {},
   "outputs": [],
   "source": [
    "pragmatic_results_merged = pragmatic_results_rounds.merge(pragmatic_results_turns, on=['pair', 'round'])\n",
    "ostensive_results_merged = ostensive_results_rounds.merge(ostensive_results_turns, on=['pair', 'round'])\n"
   ]
  },
  {
   "cell_type": "markdown",
   "metadata": {},
   "source": [
    "Further, we open the config file for this same set, so we can access the numbers for rounds, turns, and agents when we need them in a later analysis."
   ]
  },
  {
   "cell_type": "code",
   "execution_count": 30,
   "metadata": {},
   "outputs": [
    {
     "data": {
      "text/html": [
       "<div>\n",
       "<style scoped>\n",
       "    .dataframe tbody tr th:only-of-type {\n",
       "        vertical-align: middle;\n",
       "    }\n",
       "\n",
       "    .dataframe tbody tr th {\n",
       "        vertical-align: top;\n",
       "    }\n",
       "\n",
       "    .dataframe thead th {\n",
       "        text-align: right;\n",
       "    }\n",
       "</style>\n",
       "<table border=\"1\" class=\"dataframe\">\n",
       "  <thead>\n",
       "    <tr style=\"text-align: right;\">\n",
       "      <th></th>\n",
       "      <th>agentPairs</th>\n",
       "      <th>maxTurns</th>\n",
       "      <th>roundsPlayed</th>\n",
       "      <th>beta</th>\n",
       "      <th>entropyThreshold</th>\n",
       "      <th>order</th>\n",
       "      <th>costs</th>\n",
       "      <th>initiatorDistribution</th>\n",
       "      <th>responderDistribution</th>\n",
       "    </tr>\n",
       "  </thead>\n",
       "  <tbody>\n",
       "    <tr>\n",
       "      <th>0</th>\n",
       "      <td>500</td>\n",
       "      <td>6</td>\n",
       "      <td>6</td>\n",
       "      <td>5.0</td>\n",
       "      <td>0.8</td>\n",
       "      <td>1</td>\n",
       "      <td>0.0</td>\n",
       "      <td>0.45</td>\n",
       "      <td>0.55</td>\n",
       "    </tr>\n",
       "  </tbody>\n",
       "</table>\n",
       "</div>"
      ],
      "text/plain": [
       "   agentPairs  maxTurns  roundsPlayed  beta  entropyThreshold  order  costs  \\\n",
       "0         500         6             6   5.0               0.8      1    0.0   \n",
       "\n",
       "   initiatorDistribution  responderDistribution  \n",
       "0                   0.45                   0.55  "
      ]
     },
     "execution_count": 30,
     "metadata": {},
     "output_type": "execute_result"
    }
   ],
   "source": [
    "pragmatic_config = read_config(pragmatic_model_location, pragmatic_model_title)\n",
    "ostensive_config = read_config(ostensive_model_location, ostensive_model_title)"
   ]
  },
  {
   "cell_type": "markdown",
   "metadata": {},
   "source": [
    "Adding disambiguation between the models and putting them in one dataframe for some of the image creation."
   ]
  },
  {
   "cell_type": "code",
   "execution_count": 23,
   "metadata": {},
   "outputs": [],
   "source": [
    "ostensive_results_rounds['model'] = \"Ostensive\"\n",
    "pragmatic_results_rounds['model'] = \"Non-Ostensive\"\n",
    "mixed_results_rounds = pd.concat([pragmatic_results_rounds, ostensive_results_rounds], ignore_index=True)"
   ]
  },
  {
   "cell_type": "markdown",
   "metadata": {},
   "source": [
    "Removing all cases where the agents gave up, as that is not representative of a clarification sequence length."
   ]
  },
  {
   "cell_type": "code",
   "execution_count": 24,
   "metadata": {},
   "outputs": [],
   "source": [
    "mixed_results_rounds = mixed_results_rounds[mixed_results_rounds['nrTurns'] < 7]"
   ]
  },
  {
   "cell_type": "markdown",
   "metadata": {},
   "source": [
    "The main image for analysis 1 in the attached paper:"
   ]
  },
  {
   "cell_type": "code",
   "execution_count": 25,
   "metadata": {},
   "outputs": [
    {
     "data": {
      "text/plain": [
       "Text(0.5, 1.0, 'Reduction of turn sequence length')"
      ]
     },
     "execution_count": 25,
     "metadata": {},
     "output_type": "execute_result"
    },
    {
     "data": {
      "image/png": "[encoded data removed]",
      "text/plain": [
       "<Figure size 432x288 with 1 Axes>"
      ]
     },
     "metadata": {
      "needs_background": "light"
     },
     "output_type": "display_data"
    }
   ],
   "source": [
    "f = sns.lineplot(data=mixed_results_rounds, x=\"round\", y=\"nrTurns\", hue=\"model\", err_style=\"bars\")\n",
    "c = sns.lineplot(data=mixed_results_rounds, x=\"round\", y=\"nrTurns\", hue=\"model\", ci='sd', legend=False)\n",
    "sns.despine()\n",
    "f.set_ylim([0,7])\n",
    "f.set_xlabel(\"Intention\")\n",
    "f.set_title(\"Reduction of turn sequence length\")"
   ]
  },
  {
   "cell_type": "markdown",
   "metadata": {},
   "source": [
    "The images below show the factual understanding the agents have, dependent on the turn in which they decide to alter the conversation. (This is the analysis 2 in the paper)."
   ]
  },
  {
   "cell_type": "code",
   "execution_count": 13,
   "metadata": {},
   "outputs": [
    {
     "data": {
      "text/plain": [
       "<seaborn.axisgrid.FacetGrid at 0x13690efd0>"
      ]
     },
     "execution_count": 13,
     "metadata": {},
     "output_type": "execute_result"
    },
    {
     "data": {
      "image/png": "[encoded data removed]",
      "text/plain": [
       "<Figure size 2221.25x360 with 6 Axes>"
      ]
     },
     "metadata": {
      "needs_background": "light"
     },
     "output_type": "display_data"
    }
   ],
   "source": [
    "f = sns.catplot(x=\"nrTurns\", hue=\"success\", col=\"round\", data=pragmatic_results_rounds, kind=\"count\", palette=\"Dark2_r\")\n",
    "(f.set_axis_labels(\"Turns\", \"Count\")\n",
    "  .set(ylim=(0, 250)))  "
   ]
  },
  {
   "cell_type": "code",
   "execution_count": 14,
   "metadata": {},
   "outputs": [
    {
     "data": {
      "text/plain": [
       "<seaborn.axisgrid.FacetGrid at 0x136f119d0>"
      ]
     },
     "execution_count": 14,
     "metadata": {},
     "output_type": "execute_result"
    },
    {
     "data": {
      "image/png": "[encoded data removed]",
      "text/plain": [
       "<Figure size 2221.25x360 with 6 Axes>"
      ]
     },
     "metadata": {
      "needs_background": "light"
     },
     "output_type": "display_data"
    }
   ],
   "source": [
    "f = sns.catplot(x=\"nrTurns\", hue=\"success\", col=\"round\", data=ostensive_results_rounds, kind=\"count\", palette=\"Dark2_r\")\n",
    "(f.set_axis_labels(\"Turns\", \"Count\")\n",
    "  .set(ylim=(0, 250)))  "
   ]
  },
  {
   "cell_type": "markdown",
   "metadata": {},
   "source": [
    "Below follow the information to create tables of factual vs perceived understanding (analysis 3). This first table shows, for the non-ostensive model, how many agents that perceived understanding also achieved factual understanding, as well as those balances for the case where agents give up."
   ]
  },
  {
   "cell_type": "code",
   "execution_count": 26,
   "metadata": {},
   "outputs": [
    {
     "name": "stdout",
     "output_type": "stream",
     "text": [
      "                          Perceived understanding  Give up\n",
      "factual understanding                         756      267\n",
      "factual misunderstanding                     1445      532\n"
     ]
    }
   ],
   "source": [
    "perceived_understanding_prag = pragmatic_results_rounds[pragmatic_results_rounds.nrTurns <= 6]\n",
    "perceived_misunderstanding_prag = pragmatic_results_rounds[pragmatic_results_rounds.nrTurns > 6]\n",
    "\n",
    "perc_prag_success = perceived_understanding_prag[perceived_understanding_prag.success == True].count()['pair']\n",
    "perc_prag_fail = perceived_understanding_prag[perceived_understanding_prag.success == False].count()['pair']\n",
    "nperc_prag_success = perceived_misunderstanding_prag[perceived_misunderstanding_prag.success == True].count()['pair']\n",
    "nperc_prag_fail = perceived_misunderstanding_prag[perceived_misunderstanding_prag.success == False].count()['pair']\n",
    "\n",
    "prag_results = [[perc_prag_success, nperc_prag_success], [perc_prag_fail, nperc_prag_fail]]\n",
    "idx_names = ['factual understanding', 'factual misunderstanding']\n",
    "col_names = ['Perceived understanding', 'Give up']\n",
    "prag_results_df = pd.DataFrame(prag_results, index= idx_names, columns = col_names)\n",
    "\n",
    "print(prag_results_df)"
   ]
  },
  {
   "cell_type": "markdown",
   "metadata": {},
   "source": [
    "And for the ostensive case the same, shown below."
   ]
  },
  {
   "cell_type": "code",
   "execution_count": 27,
   "metadata": {},
   "outputs": [
    {
     "name": "stdout",
     "output_type": "stream",
     "text": [
      "                          Perceived understanding  Give up\n",
      "factual understanding                        1747      337\n",
      "factual misunderstanding                      451      465\n"
     ]
    }
   ],
   "source": [
    "perceived_understanding_ost = ostensive_results_rounds[ostensive_results_rounds.nrTurns <= 6]\n",
    "perceived_misunderstanding_ost = ostensive_results_rounds[ostensive_results_rounds.nrTurns > 6]\n",
    "\n",
    "perc_ost_success = perceived_understanding_ost[perceived_understanding_ost.success == True].count()['pair']\n",
    "perc_ost_fail = perceived_understanding_ost[perceived_understanding_ost.success == False].count()['pair']\n",
    "nperc_ost_success = perceived_misunderstanding_ost[perceived_misunderstanding_ost.success == True].count()['pair']\n",
    "nperc_ost_fail = perceived_misunderstanding_ost[perceived_misunderstanding_ost.success == False].count()['pair']\n",
    "\n",
    "ost_results = [[perc_ost_success, nperc_ost_success], [perc_ost_fail, nperc_ost_fail]]\n",
    "ost_results_df = pd.DataFrame(ost_results, index= idx_names, columns = col_names)\n",
    "\n",
    "print(ost_results_df)"
   ]
  },
  {
   "cell_type": "markdown",
   "metadata": {},
   "source": [
    "Because these absolute numbers can be hard to see the ratio's of, the data is recalculated in percentages. For this we first need the total number of rounds played over all agent pairs, because each round will have a success value/factual understanding value. "
   ]
  },
  {
   "cell_type": "code",
   "execution_count": 49,
   "metadata": {},
   "outputs": [],
   "source": [
    "prag_total_rounds = pragmatic_config['agentPairs'].iat[0]* pragmatic_config['roundsPlayed'].iat[0]\n",
    "ost_total_rounds = ostensive_config['agentPairs'].iat[0]* ostensive_config['roundsPlayed'].iat[0]"
   ]
  },
  {
   "cell_type": "markdown",
   "metadata": {},
   "source": [
    "Now, with these values, we can calculate the percentages for the above tables."
   ]
  },
  {
   "cell_type": "code",
   "execution_count": 47,
   "metadata": {},
   "outputs": [
    {
     "name": "stdout",
     "output_type": "stream",
     "text": [
      "                          Perceived understanding  Give up\n",
      "factual understanding                       25.20     8.90\n",
      "factual misunderstanding                    48.17    17.73\n"
     ]
    }
   ],
   "source": [
    "# percentage table is value prev table/3000 (3000 because 500 agent pairs, each 6 rounds)\n",
    "prag_results_percentage = [[(perc_prag_success/prag_total_rounds)*100, (nperc_prag_success/prag_total_rounds)*100], \n",
    "                           [(perc_prag_fail/prag_total_rounds)*100, (nperc_prag_fail/prag_total_rounds)*100]]\n",
    "\n",
    "\n",
    "prag_results_percentage_df = pd.DataFrame(prag_results_percentage, index= idx_names, columns = col_names)\n",
    "print(prag_results_percentage_df.round(2))"
   ]
  },
  {
   "cell_type": "code",
   "execution_count": 48,
   "metadata": {},
   "outputs": [
    {
     "name": "stdout",
     "output_type": "stream",
     "text": [
      "                          Perceived understanding  Give up\n",
      "factual understanding                       58.23    11.23\n",
      "factual misunderstanding                    15.03    15.50\n"
     ]
    }
   ],
   "source": [
    "# percentage table is value prev table/3000 (3000 because 500 agent pairs, each 6 rounds)\n",
    "ost_results_percentage = [[(perc_ost_success/ost_total_rounds)*100, (nperc_ost_success/ost_total_rounds)*100], \n",
    "                           [(perc_ost_fail/ost_total_rounds)*100, (nperc_ost_fail/ost_total_rounds)*100]]\n",
    "\n",
    "\n",
    "ost_results_percentage_df = pd.DataFrame(ost_results_percentage, index= idx_names, columns = col_names)\n",
    "print(ost_results_percentage_df.round(2))"
   ]
  },
  {
   "cell_type": "markdown",
   "metadata": {},
   "source": [
    "Below is the final analysis 3: showing the percentage of factual understanding split by whether the agents perceived understanding or gave up."
   ]
  },
  {
   "cell_type": "code",
   "execution_count": 19,
   "metadata": {},
   "outputs": [
    {
     "name": "stdout",
     "output_type": "stream",
     "text": [
      "               Perceived understanding  Give up\n",
      "ostensive                        79.48    42.02\n",
      "non-ostensive                    34.35    33.42\n"
     ]
    }
   ],
   "source": [
    "#TODO: save these into final table: \n",
    "# per model:\n",
    "#     for perceived understanding: \n",
    "#         factual understanding / (factual understanding + factual misunderstanding) * 100 \n",
    "\n",
    "final_results = [[(perc_ost_success / (perc_ost_success + perc_ost_fail))*100, \n",
    "                  (nperc_ost_success / (nperc_ost_success + nperc_ost_fail))*100], \n",
    "                 [(perc_prag_success / (perc_prag_success + perc_prag_fail))*100, \n",
    "                  (nperc_prag_success / (nperc_prag_success + nperc_prag_fail))*100]]\n",
    "idx_final = ['ostensive', 'non-ostensive']\n",
    "col_final = ['Perceived understanding', 'Give up']\n",
    "final_results_df = pd.DataFrame(final_results, index= idx_final, columns = col_names)\n",
    "\n",
    "print(final_results_df.round(2))"
   ]
  },
  {
   "cell_type": "code",
   "execution_count": null,
   "metadata": {},
   "outputs": [],
   "source": []
  }
 ],
 "metadata": {
  "kernelspec": {
   "display_name": "Python 3 (ipykernel)",
   "language": "python",
   "name": "python3"
  },
  "language_info": {
   "codemirror_mode": {
    "name": "ipython",
    "version": 3
   },
   "file_extension": ".py",
   "mimetype": "text/x-python",
   "name": "python",
   "nbconvert_exporter": "python",
   "pygments_lexer": "ipython3",
   "version": "3.9.9"
  }
 },
 "nbformat": 4,
 "nbformat_minor": 4
}
